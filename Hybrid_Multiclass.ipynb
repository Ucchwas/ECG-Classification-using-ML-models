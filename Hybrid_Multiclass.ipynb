{
  "nbformat": 4,
  "nbformat_minor": 0,
  "metadata": {
    "colab": {
      "provenance": [],
      "authorship_tag": "ABX9TyNpEQMuK9ebF6FjNantUPvB",
      "include_colab_link": true
    },
    "kernelspec": {
      "name": "python3",
      "display_name": "Python 3"
    },
    "language_info": {
      "name": "python"
    }
  },
  "cells": [
    {
      "cell_type": "markdown",
      "metadata": {
        "id": "view-in-github",
        "colab_type": "text"
      },
      "source": [
        "<a href=\"https://colab.research.google.com/github/Ucchwas/ECG-Classification-using-ML-models/blob/main/Hybrid_Multiclass.ipynb\" target=\"_parent\"><img src=\"https://colab.research.google.com/assets/colab-badge.svg\" alt=\"Open In Colab\"/></a>"
      ]
    },
    {
      "cell_type": "code",
      "execution_count": 180,
      "metadata": {
        "colab": {
          "base_uri": "https://localhost:8080/"
        },
        "id": "AZrqhzHRsBkj",
        "outputId": "07231e0e-023d-49d9-85c4-d318f889d0ba"
      },
      "outputs": [
        {
          "output_type": "stream",
          "name": "stdout",
          "text": [
            "Drive already mounted at /content/drive; to attempt to forcibly remount, call drive.mount(\"/content/drive\", force_remount=True).\n"
          ]
        }
      ],
      "source": [
        "from google.colab import drive\n",
        "drive.mount('/content/drive')"
      ]
    },
    {
      "cell_type": "code",
      "source": [
        "import numpy as np\n",
        "import pandas as pd\n",
        "import seaborn as sns\n",
        "import matplotlib.pyplot as plt\n",
        "from sklearn.metrics import classification_report\n",
        "from sklearn.model_selection import train_test_split\n",
        "from sklearn.metrics import f1_score\n",
        "from sklearn.metrics import confusion_matrix\n",
        "from keras.utils import to_categorical\n",
        "from sklearn.utils import class_weight\n",
        "import warnings\n",
        "warnings.filterwarnings('ignore')"
      ],
      "metadata": {
        "id": "9bCdCocPt1Im"
      },
      "execution_count": 181,
      "outputs": []
    },
    {
      "cell_type": "code",
      "source": [
        "df = pd.read_csv('/content/drive/MyDrive/Datasets/mitbih_train_Ihua.csv')"
      ],
      "metadata": {
        "id": "m_4FAR2BvZgm"
      },
      "execution_count": 182,
      "outputs": []
    },
    {
      "cell_type": "code",
      "source": [
        "df.drop('1',axis='columns',inplace=True)\n",
        "df.fillna(0, inplace=True)\n",
        "X = df.drop('Label1',axis='columns')\n",
        "y = testLabels = df.Label1.astype(np.float32)"
      ],
      "metadata": {
        "id": "e_EtVHPVvbq0"
      },
      "execution_count": 183,
      "outputs": []
    },
    {
      "cell_type": "code",
      "source": [
        "from sklearn.model_selection import train_test_split\n",
        "X_train, X_test, y_train, y_test = train_test_split(X, y, test_size= 0.2,train_size=0.8, random_state=15, stratify=y)\n",
        "import tensorflow as tf\n",
        "from tensorflow import keras\n",
        "from sklearn.metrics import confusion_matrix , classification_report"
      ],
      "metadata": {
        "id": "-1mtogIGvge0"
      },
      "execution_count": 184,
      "outputs": []
    },
    {
      "cell_type": "code",
      "source": [
        "from keras.layers import Input, Conv1D, MaxPooling1D, Flatten, Dense, LSTM, BatchNormalization\n",
        "from keras.models import Model\n",
        "from tensorflow.keras.models import Model\n",
        "from sklearn.metrics import classification_report\n",
        "from keras.layers import concatenate"
      ],
      "metadata": {
        "id": "RUkM0jezvk1M"
      },
      "execution_count": 185,
      "outputs": []
    },
    {
      "cell_type": "code",
      "source": [
        "def CNN_RNN(X_train, y_train, X_test, y_test, loss, weights):\n",
        "    im_shape = (X_train.shape[1], 1)\n",
        "    inputs_cnn = Input(shape=im_shape, name='inputs_cnn')\n",
        "\n",
        "    # Convolutional layers\n",
        "    conv1_1 = Conv1D(64, 6, activation='relu', input_shape=im_shape)(inputs_cnn)\n",
        "    conv1_1 = BatchNormalization()(conv1_1)\n",
        "    pool1 = MaxPooling1D(pool_size=3, strides=2, padding=\"same\")(conv1_1)\n",
        "\n",
        "    conv2_1 = Conv1D(64, 3, activation='relu')(pool1)\n",
        "    conv2_1 = BatchNormalization()(conv2_1)\n",
        "    pool2 = MaxPooling1D(pool_size=2, strides=2, padding=\"same\")(conv2_1)\n",
        "\n",
        "    conv3_1 = Conv1D(64, 3, activation='relu')(pool2)\n",
        "    conv3_1 = BatchNormalization()(conv3_1)\n",
        "    pool3 = MaxPooling1D(pool_size=2, strides=2, padding=\"same\")(conv3_1)\n",
        "\n",
        "    flatten = Flatten()(pool3)\n",
        "    # Reshape the output of Flatten to be 3D\n",
        "    reshaped = Reshape((1, -1))(flatten)  # Reshape to (batch_size, 1, features)\n",
        "\n",
        "\n",
        "    # Recurrent layer (LSTM)\n",
        "    lstm_layer = LSTM(64, return_sequences=False)(reshaped)\n",
        "\n",
        "    # Fully connected layers\n",
        "    dense_end1 = Dense(64, activation='relu')(lstm_layer)\n",
        "    dense_end2 = Dense(32, activation='relu')(dense_end1)\n",
        "    main_output = Dense(5, activation='sigmoid', name='main_output')(dense_end2)\n",
        "\n",
        "    model = Model(inputs=inputs_cnn, outputs=main_output)\n",
        "    model.compile(optimizer='adam', loss='binary_crossentropy', metrics=['accuracy'])\n",
        "\n",
        "    if weights == -1:\n",
        "        model.fit(X_train, y_train, epochs=10)\n",
        "    else:\n",
        "        model.fit(X_train, y_train, epochs=10, class_weight=weights)\n",
        "\n",
        "    print(model.evaluate(X_test, y_test))\n",
        "\n",
        "    y_preds = model.predict(X_train)\n",
        "    y_preds = (y_preds > 0.5).astype(int)\n",
        "\n",
        "    print(\"Classification Report: \\n\", classification_report(y_train, y_preds))\n",
        "    return model, y_preds\n"
      ],
      "metadata": {
        "id": "zpvL1gNFvnGW"
      },
      "execution_count": 186,
      "outputs": []
    },
    {
      "cell_type": "code",
      "source": [
        "from keras.utils import to_categorical\n",
        "\n",
        "# Convert y_train to one-hot encoding\n",
        "y_train = to_categorical(y_train, num_classes=5)\n",
        "y_test = to_categorical(y_test, num_classes=5)"
      ],
      "metadata": {
        "id": "Vp1p7uYgLPpG"
      },
      "execution_count": 187,
      "outputs": []
    },
    {
      "cell_type": "code",
      "source": [
        "model,history=CNN_RNN(X_train,y_train,X_test,y_test, 'binary_crossentropy', -1)"
      ],
      "metadata": {
        "colab": {
          "base_uri": "https://localhost:8080/"
        },
        "id": "uyKUYscbv3J0",
        "outputId": "43d349eb-0627-490c-d824-f40cd8d0b972"
      },
      "execution_count": 188,
      "outputs": [
        {
          "output_type": "stream",
          "name": "stdout",
          "text": [
            "Epoch 1/10\n",
            "2189/2189 [==============================] - 89s 38ms/step - loss: 0.0542 - accuracy: 0.9592\n",
            "Epoch 2/10\n",
            "2189/2189 [==============================] - 89s 41ms/step - loss: 0.0305 - accuracy: 0.9772\n",
            "Epoch 3/10\n",
            "2189/2189 [==============================] - 85s 39ms/step - loss: 0.0259 - accuracy: 0.9792\n",
            "Epoch 4/10\n",
            "2189/2189 [==============================] - 82s 38ms/step - loss: 0.0221 - accuracy: 0.9826\n",
            "Epoch 5/10\n",
            "2189/2189 [==============================] - 90s 41ms/step - loss: 0.0191 - accuracy: 0.9851\n",
            "Epoch 6/10\n",
            "2189/2189 [==============================] - 84s 38ms/step - loss: 0.0174 - accuracy: 0.9861\n",
            "Epoch 7/10\n",
            "2189/2189 [==============================] - 89s 41ms/step - loss: 0.0162 - accuracy: 0.9871\n",
            "Epoch 8/10\n",
            "2189/2189 [==============================] - 85s 39ms/step - loss: 0.0146 - accuracy: 0.9880\n",
            "Epoch 9/10\n",
            "2189/2189 [==============================] - 83s 38ms/step - loss: 0.0131 - accuracy: 0.9893\n",
            "Epoch 10/10\n",
            "2189/2189 [==============================] - 90s 41ms/step - loss: 0.0124 - accuracy: 0.9897\n",
            "548/548 [==============================] - 6s 10ms/step - loss: 0.0217 - accuracy: 0.9841\n",
            "[0.021713286638259888, 0.9840671420097351]\n",
            "2189/2189 [==============================] - 24s 11ms/step\n",
            "Classification Report: \n",
            "               precision    recall  f1-score   support\n",
            "\n",
            "           0       0.99      1.00      1.00     57978\n",
            "           1       0.98      0.86      0.92      1778\n",
            "           2       0.98      0.99      0.98      4630\n",
            "           3       0.89      0.80      0.85       513\n",
            "           4       1.00      0.99      1.00      5145\n",
            "\n",
            "   micro avg       0.99      0.99      0.99     70044\n",
            "   macro avg       0.97      0.93      0.95     70044\n",
            "weighted avg       0.99      0.99      0.99     70044\n",
            " samples avg       0.99      0.99      0.99     70044\n",
            "\n"
          ]
        }
      ]
    },
    {
      "cell_type": "code",
      "source": [
        "model.save(\"Hybrid_Multiclass.h5\")"
      ],
      "metadata": {
        "id": "BX12huH455yE"
      },
      "execution_count": 189,
      "outputs": []
    },
    {
      "cell_type": "code",
      "source": [
        "import tensorflow as tf\n",
        "\n",
        "# Load the model\n",
        "model = tf.keras.models.load_model(\"Hybrid_Multiclass.h5\")"
      ],
      "metadata": {
        "id": "JV-FajTD6IHK"
      },
      "execution_count": 190,
      "outputs": []
    },
    {
      "cell_type": "code",
      "source": [
        "run_model = tf.function(lambda x: model(x))\n",
        "# This is important, let's fix the input size.\n",
        "BATCH_SIZE = 1\n",
        "STEPS = 186\n",
        "INPUT_SIZE = 1\n",
        "concrete_func = run_model.get_concrete_function(\n",
        "    tf.TensorSpec([BATCH_SIZE, STEPS, INPUT_SIZE], model.inputs[0].dtype))\n",
        "\n",
        "# model directory.\n",
        "MODEL_DIR = \"keras_lstm\"\n",
        "model.save(MODEL_DIR, save_format=\"tf\", signatures=concrete_func)\n",
        "\n",
        "converter = tf.lite.TFLiteConverter.from_saved_model(MODEL_DIR)\n",
        "tflite_model = converter.convert()\n",
        "open(\"Hybrid_Multiclass.tflite\", \"wb\").write(tflite_model)"
      ],
      "metadata": {
        "colab": {
          "base_uri": "https://localhost:8080/"
        },
        "id": "u8neo8I-TDG8",
        "outputId": "55ab5b43-66fc-441f-b014-73626beb1eff"
      },
      "execution_count": 191,
      "outputs": [
        {
          "output_type": "execute_result",
          "data": {
            "text/plain": [
              "1647460"
            ]
          },
          "metadata": {},
          "execution_count": 191
        }
      ]
    }
  ]
}